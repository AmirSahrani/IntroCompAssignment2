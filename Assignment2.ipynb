{
 "cells": [
  {
   "cell_type": "markdown",
   "id": "ba084115",
   "metadata": {},
   "source": [
    "# Q1 Gillepsie's Direct Algorithm and Stochastic Hallmarks\n",
    "\n",
    "Investigate\n",
    "1. Variability\n",
    "2. Negative co-variances\n",
    "3. Increased transients\n",
    "4. Stochastic resonance\n",
    "5. Extinctions"
   ]
  },
  {
   "cell_type": "markdown",
   "id": "10420b35",
   "metadata": {},
   "source": [
    "## Investigate Simultion variability and Negative Co-variance\n",
    "\n",
    "> Investigate how varying the model parameters changes the behavior of the stochatic dynamics. How do the related to the variance between runs and the negative covariance between $S$ and $I$.\n",
    "\n",
    "> Compare the mean of the stochatic models to their deterministic counter parts"
   ]
  },
  {
   "cell_type": "markdown",
   "id": "10ba9d3d",
   "metadata": {},
   "source": [
    "## Stochatic Resonance and Increase Transients\n",
    "> Show how the stochatic models can induce stochatic resonance aroudn the equilibiruim and how that resonance relates to the paramters.\n",
    "\n",
    "> Show some example of increased transients away from the deterministic equilibiruim. Which parameters lead to the largest transient?"
   ]
  },
  {
   "cell_type": "markdown",
   "id": "271a323b",
   "metadata": {},
   "source": [
    "## Extinction events and Critical Community Size\n",
    "> Design an experiment that shows the effect of varying $R_0$ on the extinction process. *Keep in mind that int he closed system randomness will always eventually lead to extinction*. \n",
    "\n",
    "> Look at how the extinction events are impacted by the population size. Find a way to show how the two parameter $R_0$ and $N$ ineract to imact the extinction process."
   ]
  }
 ],
 "metadata": {
  "kernelspec": {
   "display_name": "Python 3 (ipykernel)",
   "language": "python",
   "name": "python3"
  },
  "language_info": {
   "codemirror_mode": {
    "name": "ipython",
    "version": 3
   },
   "file_extension": ".py",
   "mimetype": "text/x-python",
   "name": "python",
   "nbconvert_exporter": "python",
   "pygments_lexer": "ipython3",
   "version": "3.11.4"
  }
 },
 "nbformat": 4,
 "nbformat_minor": 5
}
