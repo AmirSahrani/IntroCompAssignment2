{
 "cells": [
  {
   "cell_type": "markdown",
   "id": "39196baf",
   "metadata": {},
   "source": [
    "# Q1 Gillespie's Direct Algorithm and Stochastic Hallmarks\n",
    "\n",
    "Investigate\n",
    "1. Variability\n",
    "2. Negative co-variances\n",
    "3. Increased transients\n",
    "4. Stochastic resonance\n",
    "5. Extinctions"
   ]
  },
  {
   "cell_type": "code",
   "execution_count": 1,
   "id": "17a0e134",
   "metadata": {},
   "outputs": [],
   "source": [
    "import numpy as np\n",
    "import scipy as sp\n",
    "import pandas as pd\n",
    "import matplotlib.pyplot as plt\n",
    "from scipy.integrate import odeint\n",
    "from scipy.optimize import curve_fit\n",
    "from random import random"
   ]
  },
  {
   "cell_type": "markdown",
   "id": "398bdad1",
   "metadata": {},
   "source": [
    "\\begin{align}\n",
    "\\frac{dS}{dt} &= \\mu -\\beta SI - \\mu S, \\label{eq:dSdtDemo} \\\\\n",
    "\\frac{dI}{dt} &= \\beta SI - \\gamma I- I(\\mu + \\rho), \\label{eq:dIdtDemo} \\\\\n",
    "\\frac{dR}{dt} &= \\gamma I- \\mu R. \\label{eq:dRdtDemo}\n",
    "\\end{align}"
   ]
  },
  {
   "cell_type": "code",
   "execution_count": 2,
   "id": "63b528fa",
   "metadata": {},
   "outputs": [],
   "source": [
    "def determinsteSIR(previousState, t, beta, gamma, birth_rate):\n",
    "    N = np.sum(previousState)\n",
    "    S,I,R = previousState/N\n",
    "    state = np.empty(3)\n",
    "    state[0] = birth_rate - S*birth_rate - S*I*beta\n",
    "    state[1] = S*I*beta   - I*birth_rate - I*gamma \n",
    "    state[2] = I*gamma    - R*birth_rate\n",
    "    return state\n",
    "    "
   ]
  },
  {
   "cell_type": "code",
   "execution_count": 3,
   "id": "41da7584",
   "metadata": {},
   "outputs": [
    {
     "data": {
      "text/plain": [
       "<matplotlib.legend.Legend at 0x7fee179c6a50>"
      ]
     },
     "execution_count": 3,
     "metadata": {},
     "output_type": "execute_result"
    },
    {
     "data": {
      "image/png": "[encoded data removed]",
      "text/plain": [
       "<Figure size 640x480 with 1 Axes>"
      ]
     },
     "metadata": {},
     "output_type": "display_data"
    }
   ],
   "source": [
    "XYZ = [10000, 10, 0]\n",
    "t = np.linspace(0,100,1000)\n",
    "beta = 1/2\n",
    "gamma = 1/2\n",
    "mu = 1/60\n",
    "\n",
    "solved = odeint(determinsteSIR, XYZ, t, (beta, gamma, mu))/10000\n",
    "plt.plot(solved[:, 0], label = \"Susceptible\")\n",
    "plt.plot(solved[:, 1], label = \"Infectious\")\n",
    "plt.plot(solved[:, 2], label = \"Recovered\")\n",
    "plt.legend(loc=\"best\")"
   ]
  },
  {
   "cell_type": "code",
   "execution_count": 4,
   "id": "246eb4df",
   "metadata": {},
   "outputs": [
    {
     "ename": "NameError",
     "evalue": "name 'T' is not defined",
     "output_type": "error",
     "traceback": [
      "\u001b[0;31m---------------------------------------------------------------------------\u001b[0m",
      "\u001b[0;31mNameError\u001b[0m                                 Traceback (most recent call last)",
      "Cell \u001b[0;32mIn[4], line 86\u001b[0m\n\u001b[1;32m     48\u001b[0m     run_simulations(runs, \u001b[38;5;124m\"\u001b[39m\u001b[38;5;124mbeta\u001b[39m\u001b[38;5;124m\"\u001b[39m,\n\u001b[1;32m     49\u001b[0m                     {\u001b[38;5;124m\"\u001b[39m\u001b[38;5;124mXYZ\u001b[39m\u001b[38;5;124m\"\u001b[39m: XYZ,\n\u001b[1;32m     50\u001b[0m                      \u001b[38;5;124m\"\u001b[39m\u001b[38;5;124mN\u001b[39m\u001b[38;5;124m\"\u001b[39m:np\u001b[38;5;241m.\u001b[39msum(XYZ) ,\n\u001b[0;32m   (...)\u001b[0m\n\u001b[1;32m     53\u001b[0m                      \u001b[38;5;124m\"\u001b[39m\u001b[38;5;124mgamma\u001b[39m\u001b[38;5;124m\"\u001b[39m:\u001b[38;5;241m1\u001b[39m\u001b[38;5;241m/\u001b[39m\u001b[38;5;241m14\u001b[39m,\n\u001b[1;32m     54\u001b[0m                      \u001b[38;5;124m\"\u001b[39m\u001b[38;5;124mmu\u001b[39m\u001b[38;5;124m\"\u001b[39m:\u001b[38;5;241m1\u001b[39m\u001b[38;5;241m/\u001b[39m\u001b[38;5;241m200\u001b[39m})\n\u001b[1;32m     55\u001b[0m \u001b[38;5;66;03m# # Varying Gamma\u001b[39;00m\n\u001b[1;32m     56\u001b[0m \u001b[38;5;66;03m# for gamma in np.linspace(0,4, 8):\u001b[39;00m\n\u001b[1;32m     57\u001b[0m \u001b[38;5;66;03m#     XYZ = np.array((10000, 1, 0))\u001b[39;00m\n\u001b[0;32m   (...)\u001b[0m\n\u001b[1;32m     83\u001b[0m \u001b[38;5;66;03m#                      \"gamma\":1/14,\u001b[39;00m\n\u001b[1;32m     84\u001b[0m \u001b[38;5;66;03m#                      \"mu\":1/200})\u001b[39;00m\n\u001b[0;32m---> 86\u001b[0m data_T \u001b[38;5;241m=\u001b[39m np\u001b[38;5;241m.\u001b[39marray(\u001b[43mT\u001b[49m)\n\u001b[1;32m     87\u001b[0m data_S \u001b[38;5;241m=\u001b[39m np\u001b[38;5;241m.\u001b[39marray(S)\u001b[38;5;241m/\u001b[39m\u001b[38;5;241m10000\u001b[39m\n\u001b[1;32m     88\u001b[0m data_I \u001b[38;5;241m=\u001b[39m np\u001b[38;5;241m.\u001b[39marray(I)\u001b[38;5;241m/\u001b[39m\u001b[38;5;241m10000\u001b[39m\n",
      "\u001b[0;31mNameError\u001b[0m: name 'T' is not defined"
     ]
    }
   ],
   "source": [
    "def stoch_sir(XYZ, N, tend, beta, gamma, mu):\n",
    "    # Columns: SIR, Rows: Events [infect, recovery, birth, death S, death I, death R]\n",
    "    change_matrix = np.array(\n",
    "                            [[-1, 1, 0],\n",
    "                             [0, -1, 1],\n",
    "                             [1,  0, 0],\n",
    "                             [-1, 0, 0],\n",
    "                             [0, -1, 0],\n",
    "                             [0,  0,-1]\n",
    "                            ])\n",
    "    current_t = 0\n",
    "    ts = 0.1\n",
    "    T = [0]\n",
    "    S = [XYZ[0]]\n",
    "    I = [XYZ[1]]\n",
    "    R = [XYZ[2]]\n",
    "\n",
    "    while T[current_t] < tend:\n",
    "        T.append(T[-1] + ts)\n",
    "        S.append(XYZ[0])\n",
    "        I.append(XYZ[1])\n",
    "        R.append(XYZ[2])\n",
    "\n",
    "        update = np.zeros((6,3))\n",
    "        event_rates = ([(beta * XYZ[0] * XYZ[1])/N, gamma * XYZ[1], \n",
    "                  mu * N,  mu * XYZ[0], mu * XYZ[1], mu * XYZ[2]])\n",
    "         \n",
    "        rand_1 = random()\n",
    "        rand_2 = random()\n",
    "        ts = -np.log(rand_1)/(np.sum(event_rates))\n",
    "\n",
    "        p = rand_2 * np.sum(event_rates)\n",
    "        event_index = min(np.nonzero(np.ravel(np.cumsum(event_rates) >= p))[0])\n",
    " \n",
    "        XYZ = XYZ + change_matrix[event_index, :]\n",
    "  \n",
    "        current_t = current_t + 1\n",
    "    return [T, S, I, R]\n",
    "def run_simulations(number_of_runs, name, kwargs):\n",
    "    for i in range(number_of_runs):\n",
    "        df = pd.DataFrame(stoch_sir(**kwargs)).transpose()\n",
    "        df.columns = [\"T\", \"S\", \"I\", \"R\"]\n",
    "        df.to_csv(f\"data/{name.capitalize()}stochasticSIR{i+1}.csv\", index=False)\n",
    "runs = 100\n",
    "# Varying Beta\n",
    "for beta in np.linspace(0,4, 20):\n",
    "    XYZ = np.array((10000, 1, 0))\n",
    "    run_simulations(runs, \"beta\",\n",
    "                    {\"XYZ\": XYZ,\n",
    "                     \"N\":np.sum(XYZ) ,\n",
    "                     \"tend\":365,\n",
    "                     \"beta\": beta,\n",
    "                     \"gamma\":1/14,\n",
    "                     \"mu\":1/200})\n",
    "# Varying Gamma\n",
    "for gamma in np.linspace(0,4, 20):\n",
    "    XYZ = np.array((10000, 1, 0))\n",
    "    run_simulations(runs, \"gamma\",\n",
    "                    {\"XYZ\": XYZ,\n",
    "                     \"N\":np.sum(XYZ) ,\n",
    "                     \"tend\":365,\n",
    "                     \"beta\": 1/2,\n",
    "                     \"gamma\":gamma,\n",
    "                     \"mu\":1/200})\n",
    "# Varying Mu\n",
    "for mu in np.linspace(0,0.1, 20):\n",
    "    XYZ = np.array((10000, 1, 0))\n",
    "    run_simulations(runs, \"mu\",\n",
    "                    {\"XYZ\": XYZ,\n",
    "                     \"N\":np.sum(XYZ) ,\n",
    "                     \"tend\":365,\n",
    "                     \"beta\": 1/2,\n",
    "                     \"gamma\":1/14,\n",
    "                     \"mu\":mu})\n",
    "# Varying N\n",
    "for N in range(0,7):\n",
    "    XYZ = np.array((10**N, 1, 0))\n",
    "    run_simulations(runs, \"N\",\n",
    "                    {\"XYZ\": XYZ,\n",
    "                     \"N\":np.sum(XYZ) ,\n",
    "                     \"tend\":365,\n",
    "                     \"beta\": 1/2,\n",
    "                     \"gamma\":1/14,\n",
    "                     \"mu\":1/200})\n",
    "\n",
    "data_T = np.array(T)\n",
    "data_S = np.array(S)/10000\n",
    "data_I = np.array(I)/10000\n",
    "data_R = np.array(R)/10000\n",
    "\n",
    "plt.plot(data_T, data_S, data_T, data_I, data_T, data_R)\n",
    "plt.xlabel(\"Days\")\n",
    "plt.ylabel(\"Population Fraction\")\n",
    "plt.legend([\"Susceptible\", \"Infected\", \"Recovered\"])\n",
    "plt.show()\n"
   ]
  },
  {
   "cell_type": "markdown",
   "id": "4a857278",
   "metadata": {},
   "source": [
    "## Investigate Simultion variability and Negative Co-variance\n",
    "!SOPH!\n",
    "> Investigate how varying the model parameters changes the behavior of the stochatic dynamics. How do the related to the variance between runs and the negative covariance between $S$ and $I$.\n",
    "\n",
    "> Compare the mean of the stochatic models to their deterministic counter parts"
   ]
  },
  {
   "cell_type": "markdown",
   "id": "d847d6b0",
   "metadata": {},
   "source": [
    "## Stochatic Resonance and Increase Transients\n",
    "!AMIR!\n",
    "> Show how the stochatic models can induce stochatic resonance around the equilibiruim and how that resonance relates to the paramters.\n",
    "\n",
    "> Show some example of increased transients away from the deterministic equilibiruim. Which parameters lead to the largest transient?"
   ]
  },
  {
   "cell_type": "code",
   "execution_count": null,
   "id": "c8f6846c",
   "metadata": {},
   "outputs": [],
   "source": []
  },
  {
   "cell_type": "markdown",
   "id": "761ed255",
   "metadata": {},
   "source": [
    "## Extinction events and Critical Community Size  \n",
    "- Population in exponential scale\n",
    "- Hand pick gamma\n",
    "- Hope for an elbom (inflexion point)\n",
    "> Design an experiment that shows the effect of varying $R_0$ on the extinction process. *Keep in mind that int he closed system randomness will always eventually lead to extinction*. \n",
    "\n",
    "> Look at how the extinction events are impacted by the population size. Find a way to show how the two parameter $R_0$ and $N$ ineract to imact the extinction process."
   ]
  },
  {
   "cell_type": "markdown",
   "id": "d3a5fa3e",
   "metadata": {},
   "source": [
    "# Network\n"
   ]
  }
 ],
 "metadata": {
  "kernelspec": {
   "display_name": "Python 3 (ipykernel)",
   "language": "python",
   "name": "python3"
  },
  "language_info": {
   "codemirror_mode": {
    "name": "ipython",
    "version": 3
   },
   "file_extension": ".py",
   "mimetype": "text/x-python",
   "name": "python",
   "nbconvert_exporter": "python",
   "pygments_lexer": "ipython3",
   "version": "3.11.4"
  }
 },
 "nbformat": 4,
 "nbformat_minor": 5
}
